{
 "cells": [
  {
   "cell_type": "markdown",
   "id": "9c471695",
   "metadata": {},
   "source": [
    "# Used car price prediction"
   ]
  },
  {
   "cell_type": "markdown",
   "id": "762bbe03",
   "metadata": {},
   "source": [
    "# Objective"
   ]
  },
  {
   "cell_type": "markdown",
   "id": "ae8f2060",
   "metadata": {},
   "source": [
    "There is a huge demand for used cars in the Indian Market today.Cars4U is a budding tech start-up that aims to find footholes in this market.We have to come up with a pricing model that can effectively predict the price of used cars and can help the business in devising profitable strategies using differential pricing."
   ]
  },
  {
   "cell_type": "code",
   "execution_count": 2,
   "id": "f30e324c",
   "metadata": {},
   "outputs": [],
   "source": [
    "# !pip install statsmodels"
   ]
  },
  {
   "cell_type": "code",
   "execution_count": 3,
   "id": "d5322d44",
   "metadata": {},
   "outputs": [],
   "source": [
    "import pandas as pd\n",
    "import numpy as np\n",
    "import matplotlib.pyplot as plt\n",
    "%matplotlib inline\n",
    "import seaborn as sns\n",
    "import missingno as msno \n",
    "import plotly.express as px\n",
    "from sklearn.model_selection import train_test_split\n",
    "import statsmodels.api as sm\n",
    "from sklearn import metrics\n",
    "from sklearn.tree import DecisionTreeRegressor\n"
   ]
  },
  {
   "cell_type": "code",
   "execution_count": 4,
   "id": "19263daf",
   "metadata": {},
   "outputs": [
    {
     "ename": "FileNotFoundError",
     "evalue": "[Errno 2] No such file or directory: 'used_cars_data.csv'",
     "output_type": "error",
     "traceback": [
      "\u001b[1;31m---------------------------------------------------------------------------\u001b[0m",
      "\u001b[1;31mFileNotFoundError\u001b[0m                         Traceback (most recent call last)",
      "\u001b[1;32m~\\AppData\\Local\\Temp\\ipykernel_17356\\408699787.py\u001b[0m in \u001b[0;36m<module>\u001b[1;34m\u001b[0m\n\u001b[1;32m----> 1\u001b[1;33m \u001b[0mdata\u001b[0m \u001b[1;33m=\u001b[0m \u001b[0mpd\u001b[0m\u001b[1;33m.\u001b[0m\u001b[0mread_csv\u001b[0m\u001b[1;33m(\u001b[0m\u001b[1;34m'used_cars_data.csv'\u001b[0m\u001b[1;33m)\u001b[0m\u001b[1;33m\u001b[0m\u001b[1;33m\u001b[0m\u001b[0m\n\u001b[0m\u001b[0;32m      2\u001b[0m \u001b[0mdata\u001b[0m\u001b[1;33m\u001b[0m\u001b[1;33m\u001b[0m\u001b[0m\n",
      "\u001b[1;32m~\\anaconda3\\lib\\site-packages\\pandas\\util\\_decorators.py\u001b[0m in \u001b[0;36mwrapper\u001b[1;34m(*args, **kwargs)\u001b[0m\n\u001b[0;32m    309\u001b[0m                     \u001b[0mstacklevel\u001b[0m\u001b[1;33m=\u001b[0m\u001b[0mstacklevel\u001b[0m\u001b[1;33m,\u001b[0m\u001b[1;33m\u001b[0m\u001b[1;33m\u001b[0m\u001b[0m\n\u001b[0;32m    310\u001b[0m                 )\n\u001b[1;32m--> 311\u001b[1;33m             \u001b[1;32mreturn\u001b[0m \u001b[0mfunc\u001b[0m\u001b[1;33m(\u001b[0m\u001b[1;33m*\u001b[0m\u001b[0margs\u001b[0m\u001b[1;33m,\u001b[0m \u001b[1;33m**\u001b[0m\u001b[0mkwargs\u001b[0m\u001b[1;33m)\u001b[0m\u001b[1;33m\u001b[0m\u001b[1;33m\u001b[0m\u001b[0m\n\u001b[0m\u001b[0;32m    312\u001b[0m \u001b[1;33m\u001b[0m\u001b[0m\n\u001b[0;32m    313\u001b[0m         \u001b[1;32mreturn\u001b[0m \u001b[0mwrapper\u001b[0m\u001b[1;33m\u001b[0m\u001b[1;33m\u001b[0m\u001b[0m\n",
      "\u001b[1;32m~\\anaconda3\\lib\\site-packages\\pandas\\io\\parsers\\readers.py\u001b[0m in \u001b[0;36mread_csv\u001b[1;34m(filepath_or_buffer, sep, delimiter, header, names, index_col, usecols, squeeze, prefix, mangle_dupe_cols, dtype, engine, converters, true_values, false_values, skipinitialspace, skiprows, skipfooter, nrows, na_values, keep_default_na, na_filter, verbose, skip_blank_lines, parse_dates, infer_datetime_format, keep_date_col, date_parser, dayfirst, cache_dates, iterator, chunksize, compression, thousands, decimal, lineterminator, quotechar, quoting, doublequote, escapechar, comment, encoding, encoding_errors, dialect, error_bad_lines, warn_bad_lines, on_bad_lines, delim_whitespace, low_memory, memory_map, float_precision, storage_options)\u001b[0m\n\u001b[0;32m    676\u001b[0m     \u001b[0mkwds\u001b[0m\u001b[1;33m.\u001b[0m\u001b[0mupdate\u001b[0m\u001b[1;33m(\u001b[0m\u001b[0mkwds_defaults\u001b[0m\u001b[1;33m)\u001b[0m\u001b[1;33m\u001b[0m\u001b[1;33m\u001b[0m\u001b[0m\n\u001b[0;32m    677\u001b[0m \u001b[1;33m\u001b[0m\u001b[0m\n\u001b[1;32m--> 678\u001b[1;33m     \u001b[1;32mreturn\u001b[0m \u001b[0m_read\u001b[0m\u001b[1;33m(\u001b[0m\u001b[0mfilepath_or_buffer\u001b[0m\u001b[1;33m,\u001b[0m \u001b[0mkwds\u001b[0m\u001b[1;33m)\u001b[0m\u001b[1;33m\u001b[0m\u001b[1;33m\u001b[0m\u001b[0m\n\u001b[0m\u001b[0;32m    679\u001b[0m \u001b[1;33m\u001b[0m\u001b[0m\n\u001b[0;32m    680\u001b[0m \u001b[1;33m\u001b[0m\u001b[0m\n",
      "\u001b[1;32m~\\anaconda3\\lib\\site-packages\\pandas\\io\\parsers\\readers.py\u001b[0m in \u001b[0;36m_read\u001b[1;34m(filepath_or_buffer, kwds)\u001b[0m\n\u001b[0;32m    573\u001b[0m \u001b[1;33m\u001b[0m\u001b[0m\n\u001b[0;32m    574\u001b[0m     \u001b[1;31m# Create the parser.\u001b[0m\u001b[1;33m\u001b[0m\u001b[1;33m\u001b[0m\u001b[0m\n\u001b[1;32m--> 575\u001b[1;33m     \u001b[0mparser\u001b[0m \u001b[1;33m=\u001b[0m \u001b[0mTextFileReader\u001b[0m\u001b[1;33m(\u001b[0m\u001b[0mfilepath_or_buffer\u001b[0m\u001b[1;33m,\u001b[0m \u001b[1;33m**\u001b[0m\u001b[0mkwds\u001b[0m\u001b[1;33m)\u001b[0m\u001b[1;33m\u001b[0m\u001b[1;33m\u001b[0m\u001b[0m\n\u001b[0m\u001b[0;32m    576\u001b[0m \u001b[1;33m\u001b[0m\u001b[0m\n\u001b[0;32m    577\u001b[0m     \u001b[1;32mif\u001b[0m \u001b[0mchunksize\u001b[0m \u001b[1;32mor\u001b[0m \u001b[0miterator\u001b[0m\u001b[1;33m:\u001b[0m\u001b[1;33m\u001b[0m\u001b[1;33m\u001b[0m\u001b[0m\n",
      "\u001b[1;32m~\\anaconda3\\lib\\site-packages\\pandas\\io\\parsers\\readers.py\u001b[0m in \u001b[0;36m__init__\u001b[1;34m(self, f, engine, **kwds)\u001b[0m\n\u001b[0;32m    930\u001b[0m \u001b[1;33m\u001b[0m\u001b[0m\n\u001b[0;32m    931\u001b[0m         \u001b[0mself\u001b[0m\u001b[1;33m.\u001b[0m\u001b[0mhandles\u001b[0m\u001b[1;33m:\u001b[0m \u001b[0mIOHandles\u001b[0m \u001b[1;33m|\u001b[0m \u001b[1;32mNone\u001b[0m \u001b[1;33m=\u001b[0m \u001b[1;32mNone\u001b[0m\u001b[1;33m\u001b[0m\u001b[1;33m\u001b[0m\u001b[0m\n\u001b[1;32m--> 932\u001b[1;33m         \u001b[0mself\u001b[0m\u001b[1;33m.\u001b[0m\u001b[0m_engine\u001b[0m \u001b[1;33m=\u001b[0m \u001b[0mself\u001b[0m\u001b[1;33m.\u001b[0m\u001b[0m_make_engine\u001b[0m\u001b[1;33m(\u001b[0m\u001b[0mf\u001b[0m\u001b[1;33m,\u001b[0m \u001b[0mself\u001b[0m\u001b[1;33m.\u001b[0m\u001b[0mengine\u001b[0m\u001b[1;33m)\u001b[0m\u001b[1;33m\u001b[0m\u001b[1;33m\u001b[0m\u001b[0m\n\u001b[0m\u001b[0;32m    933\u001b[0m \u001b[1;33m\u001b[0m\u001b[0m\n\u001b[0;32m    934\u001b[0m     \u001b[1;32mdef\u001b[0m \u001b[0mclose\u001b[0m\u001b[1;33m(\u001b[0m\u001b[0mself\u001b[0m\u001b[1;33m)\u001b[0m\u001b[1;33m:\u001b[0m\u001b[1;33m\u001b[0m\u001b[1;33m\u001b[0m\u001b[0m\n",
      "\u001b[1;32m~\\anaconda3\\lib\\site-packages\\pandas\\io\\parsers\\readers.py\u001b[0m in \u001b[0;36m_make_engine\u001b[1;34m(self, f, engine)\u001b[0m\n\u001b[0;32m   1214\u001b[0m             \u001b[1;31m# \"Union[str, PathLike[str], ReadCsvBuffer[bytes], ReadCsvBuffer[str]]\"\u001b[0m\u001b[1;33m\u001b[0m\u001b[1;33m\u001b[0m\u001b[0m\n\u001b[0;32m   1215\u001b[0m             \u001b[1;31m# , \"str\", \"bool\", \"Any\", \"Any\", \"Any\", \"Any\", \"Any\"\u001b[0m\u001b[1;33m\u001b[0m\u001b[1;33m\u001b[0m\u001b[0m\n\u001b[1;32m-> 1216\u001b[1;33m             self.handles = get_handle(  # type: ignore[call-overload]\n\u001b[0m\u001b[0;32m   1217\u001b[0m                 \u001b[0mf\u001b[0m\u001b[1;33m,\u001b[0m\u001b[1;33m\u001b[0m\u001b[1;33m\u001b[0m\u001b[0m\n\u001b[0;32m   1218\u001b[0m                 \u001b[0mmode\u001b[0m\u001b[1;33m,\u001b[0m\u001b[1;33m\u001b[0m\u001b[1;33m\u001b[0m\u001b[0m\n",
      "\u001b[1;32m~\\anaconda3\\lib\\site-packages\\pandas\\io\\common.py\u001b[0m in \u001b[0;36mget_handle\u001b[1;34m(path_or_buf, mode, encoding, compression, memory_map, is_text, errors, storage_options)\u001b[0m\n\u001b[0;32m    784\u001b[0m         \u001b[1;32mif\u001b[0m \u001b[0mioargs\u001b[0m\u001b[1;33m.\u001b[0m\u001b[0mencoding\u001b[0m \u001b[1;32mand\u001b[0m \u001b[1;34m\"b\"\u001b[0m \u001b[1;32mnot\u001b[0m \u001b[1;32min\u001b[0m \u001b[0mioargs\u001b[0m\u001b[1;33m.\u001b[0m\u001b[0mmode\u001b[0m\u001b[1;33m:\u001b[0m\u001b[1;33m\u001b[0m\u001b[1;33m\u001b[0m\u001b[0m\n\u001b[0;32m    785\u001b[0m             \u001b[1;31m# Encoding\u001b[0m\u001b[1;33m\u001b[0m\u001b[1;33m\u001b[0m\u001b[0m\n\u001b[1;32m--> 786\u001b[1;33m             handle = open(\n\u001b[0m\u001b[0;32m    787\u001b[0m                 \u001b[0mhandle\u001b[0m\u001b[1;33m,\u001b[0m\u001b[1;33m\u001b[0m\u001b[1;33m\u001b[0m\u001b[0m\n\u001b[0;32m    788\u001b[0m                 \u001b[0mioargs\u001b[0m\u001b[1;33m.\u001b[0m\u001b[0mmode\u001b[0m\u001b[1;33m,\u001b[0m\u001b[1;33m\u001b[0m\u001b[1;33m\u001b[0m\u001b[0m\n",
      "\u001b[1;31mFileNotFoundError\u001b[0m: [Errno 2] No such file or directory: 'used_cars_data.csv'"
     ]
    }
   ],
   "source": [
    "data = pd.read_csv('used_cars_data.csv')\n",
    "data"
   ]
  },
  {
   "cell_type": "code",
   "execution_count": null,
   "id": "1a8151be",
   "metadata": {},
   "outputs": [],
   "source": [
    "data"
   ]
  },
  {
   "cell_type": "markdown",
   "id": "984f65dc",
   "metadata": {},
   "source": [
    "# Data Understanding"
   ]
  },
  {
   "cell_type": "code",
   "execution_count": null,
   "id": "0e1991cd",
   "metadata": {},
   "outputs": [],
   "source": [
    "data.shape"
   ]
  },
  {
   "cell_type": "code",
   "execution_count": null,
   "id": "c1b72aa7",
   "metadata": {},
   "outputs": [],
   "source": [
    "data.info()"
   ]
  },
  {
   "cell_type": "code",
   "execution_count": null,
   "id": "a8cf0b86",
   "metadata": {},
   "outputs": [],
   "source": [
    "data.isnull().sum()"
   ]
  },
  {
   "cell_type": "code",
   "execution_count": null,
   "id": "e0c8ba45",
   "metadata": {},
   "outputs": [],
   "source": [
    "print (\"\\nUnique values :  \\n\\n\", data.nunique())"
   ]
  },
  {
   "cell_type": "code",
   "execution_count": null,
   "id": "aa3bd011",
   "metadata": {},
   "outputs": [],
   "source": [
    "msno.bar(data)"
   ]
  },
  {
   "cell_type": "markdown",
   "id": "3eee36a6",
   "metadata": {},
   "source": [
    "Observations\n",
    "\n",
    "This preview shows that some columns potentially have a lot of missingness New_Price has only 1006 values. 86 % values are missing\n",
    "\n",
    "Price, which is a Target variable 17 % missing values.\n",
    "\n",
    "Seats has only 53 values missing and number of seats can be one of key factor in deciding price.\n",
    "\n",
    "Power and Engine has 46 missing values.\n",
    "\n",
    "Mileage only has two values missing.\n",
    "\n",
    "Mileage,Power,Engine,New_Price we know are quantitative variables but are of object dtype here and needs to to converted to numeric."
   ]
  },
  {
   "cell_type": "code",
   "execution_count": null,
   "id": "57fb589a",
   "metadata": {},
   "outputs": [],
   "source": [
    "num = data.select_dtypes('number').columns.tolist()\n",
    "cat = data.select_dtypes('object').columns.tolist()"
   ]
  },
  {
   "cell_type": "code",
   "execution_count": null,
   "id": "ec9f874a",
   "metadata": {},
   "outputs": [],
   "source": [
    "num"
   ]
  },
  {
   "cell_type": "code",
   "execution_count": null,
   "id": "9f6544c0",
   "metadata": {},
   "outputs": [],
   "source": [
    "cat"
   ]
  },
  {
   "cell_type": "code",
   "execution_count": null,
   "id": "5b0f07f2",
   "metadata": {},
   "outputs": [],
   "source": [
    "cat_col = [\n",
    "    \"Fuel_Type\",\n",
    "    \"Location\",\n",
    "    \"Transmission\",\n",
    "    \"Seats\",\n",
    "    \"Year\",\n",
    "    \"Owner_Type\",\n",
    "    \n",
    "]\n",
    "for column in cat_col:\n",
    "    print(data[column].value_counts())\n",
    "    print(\"-\" * 40)"
   ]
  },
  {
   "cell_type": "markdown",
   "id": "63a32579",
   "metadata": {},
   "source": [
    "Observations\n",
    "\n",
    "Maximum car being sold have fuel type as Diesel.\n",
    "\n",
    "Mumbai has highest numbers of car availabe for purchase.\n",
    "\n",
    "5204 cars with Manual transmission are available for purchase.\n",
    "\n",
    "Most of the cars are 5 seaters and First owned.\n",
    "\n",
    "Years of car ranges form 1996- 2015"
   ]
  },
  {
   "cell_type": "markdown",
   "id": "532e2072",
   "metadata": {},
   "source": [
    "# Data Preprocessing"
   ]
  },
  {
   "cell_type": "markdown",
   "id": "78715849",
   "metadata": {},
   "source": [
    "Processing Engine,Power ,Mileage columns¶"
   ]
  },
  {
   "cell_type": "code",
   "execution_count": null,
   "id": "e257eea7",
   "metadata": {},
   "outputs": [],
   "source": [
    "data[['Engine','Power','Mileage']].sample(10)"
   ]
  },
  {
   "cell_type": "code",
   "execution_count": null,
   "id": "9cdc5bfc",
   "metadata": {},
   "outputs": [],
   "source": [
    "typeoffuel=['CNG','LPG']\n",
    "data.loc[data.Fuel_Type.isin(typeoffuel)].head(10)"
   ]
  },
  {
   "cell_type": "markdown",
   "id": "ba149893",
   "metadata": {},
   "source": [
    "Power has some values as \"nullbhp\" .Mileage also has some observations as 0. For fuel type and CNG and LPG mileage is measured in km/kg where as for other type it is measured in kmpl. Since those units are in km for both of them no need of conversion . Dropping units from mileages,Engine and Power."
   ]
  },
  {
   "cell_type": "markdown",
   "id": "a57e3662",
   "metadata": {},
   "source": [
    " Mileage"
   ]
  },
  {
   "cell_type": "code",
   "execution_count": null,
   "id": "df51b08d",
   "metadata": {},
   "outputs": [],
   "source": [
    "data[data.Mileage.isnull()==True]"
   ]
  },
  {
   "cell_type": "code",
   "execution_count": null,
   "id": "9422c8be",
   "metadata": {},
   "outputs": [],
   "source": [
    "\n",
    "data[\"Mileage\"] = data[\"Mileage\"].str.rstrip(\" kmpl\")\n",
    "data[\"Mileage\"] = data[\"Mileage\"].str.rstrip(\" km/g\")\n"
   ]
  },
  {
   "cell_type": "markdown",
   "id": "12b4dd1e",
   "metadata": {},
   "source": [
    "Engine"
   ]
  },
  {
   "cell_type": "code",
   "execution_count": null,
   "id": "15628cfc",
   "metadata": {},
   "outputs": [],
   "source": [
    "data[\"Engine\"] = data[\"Engine\"].str.rstrip(\" CC\")"
   ]
  },
  {
   "cell_type": "markdown",
   "id": "398847ff",
   "metadata": {},
   "source": [
    "Power"
   ]
  },
  {
   "cell_type": "code",
   "execution_count": null,
   "id": "9b38eb9d",
   "metadata": {},
   "outputs": [],
   "source": [
    "\n",
    "data[\"Power\"] = data[\"Power\"].str.rstrip(\" bhp\")\n",
    "data[\"Power\"]= data[\"Power\"].replace(regex=\"null\", value = np.nan)"
   ]
  },
  {
   "cell_type": "code",
   "execution_count": null,
   "id": "df74c72e",
   "metadata": {},
   "outputs": [],
   "source": [
    "num=['Engine','Power','Mileage']\n",
    "data[num].sample(20)"
   ]
  },
  {
   "cell_type": "markdown",
   "id": "11894269",
   "metadata": {},
   "source": [
    " values in Power and Mileage as 0.0 so verifying data for Engine, Power, Mileage. Will check once again after converting datatype"
   ]
  },
  {
   "cell_type": "code",
   "execution_count": null,
   "id": "c2d5990c",
   "metadata": {},
   "outputs": [],
   "source": [
    "data.query(\"Power == '0.0'\")['Power'].count()"
   ]
  },
  {
   "cell_type": "code",
   "execution_count": null,
   "id": "b10f0749",
   "metadata": {},
   "outputs": [],
   "source": [
    "data.query(\"Mileage == '0.0'\")['Mileage'].count()"
   ]
  },
  {
   "cell_type": "code",
   "execution_count": null,
   "id": "c4c3932c",
   "metadata": {},
   "outputs": [],
   "source": [
    "data.loc[data[\"Mileage\"]=='0.0','Mileage']=np.nan"
   ]
  },
  {
   "cell_type": "code",
   "execution_count": null,
   "id": "6d431f1a",
   "metadata": {},
   "outputs": [],
   "source": [
    "data.loc[data[\"Engine\"]=='0.0','Engine'].count()"
   ]
  },
  {
   "cell_type": "code",
   "execution_count": null,
   "id": "b6e4ca6a",
   "metadata": {},
   "outputs": [],
   "source": [
    "data[num].nunique()"
   ]
  },
  {
   "cell_type": "code",
   "execution_count": null,
   "id": "980e82fb",
   "metadata": {},
   "outputs": [],
   "source": [
    "data[num].isnull().sum()"
   ]
  },
  {
   "cell_type": "markdown",
   "id": "1958aace",
   "metadata": {},
   "source": [
    "46 missing value in Engine ,175 missing value in power and 83 missing value in mileage"
   ]
  },
  {
   "cell_type": "markdown",
   "id": "b0307898",
   "metadata": {},
   "source": [
    "Processing Seats"
   ]
  },
  {
   "cell_type": "code",
   "execution_count": null,
   "id": "e72df614",
   "metadata": {},
   "outputs": [],
   "source": [
    "data.query(\"Seats == 0.0\")['Seats'].count()"
   ]
  },
  {
   "cell_type": "code",
   "execution_count": null,
   "id": "b86eb305",
   "metadata": {},
   "outputs": [],
   "source": [
    "data.loc[3999,'Seats'] =np.nan"
   ]
  },
  {
   "cell_type": "code",
   "execution_count": null,
   "id": "cb8ef5c9",
   "metadata": {},
   "outputs": [],
   "source": [
    "import re\n",
    "\n",
    "new_price_num = []\n",
    "\n",
    "regex_power = \"^\\d+(\\.\\d+)? Lakh$\"\n",
    "\n",
    "for observation in data[\"New_Price\"]:\n",
    "    if isinstance(observation, str):\n",
    "        if re.match(regex_power, observation):\n",
    "            new_price_num.append(float(observation.split(\" \")[0]))\n",
    "        else:\n",
    "           \n",
    "            print(\n",
    "                \"The data needs furthur processing.mismatch \",\n",
    "                observation,\n",
    "            )\n",
    "    else:\n",
    "        new_price_num.append(np.nan)"
   ]
  },
  {
   "cell_type": "code",
   "execution_count": null,
   "id": "e73c2659",
   "metadata": {},
   "outputs": [],
   "source": [
    "data"
   ]
  },
  {
   "cell_type": "code",
   "execution_count": null,
   "id": "d17ba2f1",
   "metadata": {},
   "outputs": [],
   "source": [
    "\n",
    "new_price_num = []\n",
    "\n",
    "for observation in data[\"New_Price\"]:\n",
    "    if isinstance(observation, str):\n",
    "        if re.match(regex_power, observation):\n",
    "            new_price_num.append(float(observation.split(\" \")[0]))\n",
    "        else:\n",
    "            new_price_num.append(float(observation.split(\" \")[0]) * 100)\n",
    "    else:\n",
    "        new_price_num.append(np.nan)\n",
    "\n",
    "data[\"new_price_num\"] = new_price_num\n",
    "data.head(5)  "
   ]
  },
  {
   "cell_type": "markdown",
   "id": "54c41426",
   "metadata": {},
   "source": [
    "# Feature Enginering"
   ]
  },
  {
   "cell_type": "markdown",
   "id": "f1bb8364",
   "metadata": {},
   "source": [
    "converting datatype"
   ]
  },
  {
   "cell_type": "code",
   "execution_count": null,
   "id": "0a5ee30a",
   "metadata": {},
   "outputs": [],
   "source": [
    "#converting object data type to category data type\n",
    "data[\"Fuel_Type\"] = data[\"Fuel_Type\"].astype(\"category\")\n",
    "data[\"Transmission\"] = data[\"Transmission\"].astype(\"category\")\n",
    "data[\"Owner_Type\"] = data[\"Owner_Type\"].astype(\"category\")\n",
    "#converting int data type to float  \n",
    "data[\"Mileage\"] = data[\"Mileage\"].astype(float)\n",
    "data[\"Power\"] = data[\"Power\"].astype(float)\n",
    "data[\"Engine\"]=data[\"Engine\"].astype(float)"
   ]
  },
  {
   "cell_type": "code",
   "execution_count": null,
   "id": "97533b3c",
   "metadata": {},
   "outputs": [],
   "source": [
    "data.describe().T"
   ]
  },
  {
   "cell_type": "code",
   "execution_count": null,
   "id": "20c71da4",
   "metadata": {},
   "outputs": [],
   "source": [
    "data['Current_year']=2023\n",
    "data['Ageofcar']=data['Current_year']-data['Year']\n",
    "data.drop('Current_year',axis=1,inplace=True)\n",
    "data.head()"
   ]
  },
  {
   "cell_type": "markdown",
   "id": "aac967ff",
   "metadata": {},
   "source": [
    "Processing Name column"
   ]
  },
  {
   "cell_type": "markdown",
   "id": "776363c9",
   "metadata": {},
   "source": [
    "Brands do play an important role in Car selection and Prices. So extracting brand names from the Name."
   ]
  },
  {
   "cell_type": "code",
   "execution_count": null,
   "id": "f6489434",
   "metadata": {
    "scrolled": true
   },
   "outputs": [],
   "source": [
    "filtered_data = data.dropna(subset=['Name'])\n",
    "data['Name'] = filtered_data['Name']"
   ]
  },
  {
   "cell_type": "code",
   "execution_count": null,
   "id": "c10ba46e",
   "metadata": {},
   "outputs": [],
   "source": []
  },
  {
   "cell_type": "code",
   "execution_count": null,
   "id": "60044657",
   "metadata": {},
   "outputs": [],
   "source": [
    " data['Brand'] = data['Name'].str.split(' ').str[0] \n",
    "data['Model'] = data['Name'].str.split(' ').str[1] + data['Name'].str.split(' ').str[2]"
   ]
  },
  {
   "cell_type": "code",
   "execution_count": null,
   "id": "dc1301ad",
   "metadata": {},
   "outputs": [],
   "source": [
    "data.Brand.unique()"
   ]
  },
  {
   "cell_type": "code",
   "execution_count": null,
   "id": "276693b7",
   "metadata": {},
   "outputs": [],
   "source": [
    "col=['ISUZU','Isuzu','Mini','Land']\n",
    "data[data.Brand.isin(col)].sample(5)"
   ]
  },
  {
   "cell_type": "markdown",
   "id": "6c1a392c",
   "metadata": {},
   "source": [
    "Brand names like ISUZU and Isuzu are same and needs to be corrected. Land, Mini seems to be incorrect. So correcting brand names."
   ]
  },
  {
   "cell_type": "code",
   "execution_count": null,
   "id": "ab8553b9",
   "metadata": {},
   "outputs": [],
   "source": [
    "data.info()"
   ]
  },
  {
   "cell_type": "code",
   "execution_count": null,
   "id": "b6f19d57",
   "metadata": {},
   "outputs": [],
   "source": [
    "data.loc[data.Brand == 'ISUZU','Brand']='Isuzu'\n",
    "data.loc[data.Brand=='Mini','Brand']='Mini Cooper'\n",
    "data.loc[data.Brand=='Land','Brand']='Land Rover'\n"
   ]
  },
  {
   "cell_type": "code",
   "execution_count": null,
   "id": "3f99337c",
   "metadata": {},
   "outputs": [],
   "source": [
    "data.Brand.nunique()"
   ]
  },
  {
   "cell_type": "code",
   "execution_count": null,
   "id": "efad4f57",
   "metadata": {},
   "outputs": [],
   "source": [
    "data.groupby(data.Brand).size().sort_values(ascending =False)"
   ]
  },
  {
   "cell_type": "code",
   "execution_count": null,
   "id": "bd223d58",
   "metadata": {},
   "outputs": [],
   "source": [
    "data.Model.isnull().sum()"
   ]
  },
  {
   "cell_type": "code",
   "execution_count": null,
   "id": "5f0d6afa",
   "metadata": {},
   "outputs": [],
   "source": [
    "data.dropna(subset=['Model'],axis=0,inplace=True)\n"
   ]
  },
  {
   "cell_type": "code",
   "execution_count": null,
   "id": "e1dcd4cd",
   "metadata": {},
   "outputs": [],
   "source": [
    "data.Model.nunique()"
   ]
  },
  {
   "cell_type": "code",
   "execution_count": null,
   "id": "b45dc393",
   "metadata": {},
   "outputs": [],
   "source": [
    "data.groupby('Model')['Model'].size().nlargest(30)"
   ]
  },
  {
   "cell_type": "markdown",
   "id": "24bcbd51",
   "metadata": {},
   "source": [
    "There are 726 unique models and Swift Dzire is most popular Model."
   ]
  },
  {
   "cell_type": "markdown",
   "id": "077a08e7",
   "metadata": {},
   "source": [
    "# EDA"
   ]
  },
  {
   "cell_type": "code",
   "execution_count": null,
   "id": "5fd9812a",
   "metadata": {},
   "outputs": [],
   "source": [
    "data.info()"
   ]
  },
  {
   "cell_type": "code",
   "execution_count": null,
   "id": "5ac22bae",
   "metadata": {},
   "outputs": [],
   "source": [
    "data.describe()"
   ]
  },
  {
   "cell_type": "markdown",
   "id": "df21a605",
   "metadata": {},
   "source": [
    "Observations\n",
    "\n",
    "Years is left skewed. Years ranges from 1996- 2019 . Age of cars 2 year old to 25 years old\n",
    "\n",
    "Kilometer driven , median is ~53k Km and mean is ~58K. Max values seems to be 6500000. This is very high , and seems to be outlier. Need to analyze further.\n",
    "\n",
    "Mileage is almost Normally distrubuited\n",
    "\n",
    "Engine is right skewed and has outliers on higher and lower end\n",
    "\n",
    "Power and Price are also right skewed.\n",
    "\n",
    "Price 160 Lakh is too much for a used car. Seems to be an outlier."
   ]
  },
  {
   "cell_type": "code",
   "execution_count": null,
   "id": "88fca234",
   "metadata": {},
   "outputs": [],
   "source": [
    "plt.style.use('ggplot')\n",
    "\n",
    "numeric_columns = data.select_dtypes(include=np.number).columns.tolist()\n",
    "plt.figure(figsize=(20,25))\n",
    "\n",
    "for i, variable in enumerate(numeric_columns):\n",
    "                     plt.subplot(10,3,i+1)\n",
    "                       \n",
    "                     sns.distplot(data[variable],kde=False,color='blue')\n",
    "                     plt.tight_layout()\n",
    "                     plt.title(variable)\n"
   ]
  },
  {
   "cell_type": "markdown",
   "id": "f5d5293a",
   "metadata": {},
   "source": [
    "Observations\n",
    "\n",
    "Year is left skewed and has outilers on lower side., This column can be dropped\n",
    "\n",
    "Kilometer_driven is right skewed.\n",
    "\n",
    "Mileage is almost Normally distrubuted. Has few outliers on upper and lower side. need to check further.\n",
    "\n",
    "Engine ,power and price are right skewed and has outliers on upper side.\n",
    "\n",
    "Age of car is right skewed."
   ]
  },
  {
   "cell_type": "code",
   "execution_count": null,
   "id": "1c36697d",
   "metadata": {},
   "outputs": [],
   "source": [
    "cat_columns=['Location','Fuel_Type','Transmission', 'Owner_Type', 'Brand'] \n",
    "\n",
    "plt.figure(figsize=(15,21))\n",
    "\n",
    "for i, variable in enumerate(cat_columns):\n",
    "                     plt.subplot(4,2,i+1)\n",
    "                     order = data[variable].value_counts(ascending=False).index    \n",
    "                     ax=sns.countplot(x=data[variable], data=data , order=order ,palette='viridis')\n",
    "                     for p in ax.patches:\n",
    "                           percentage = '{:.1f}%'.format(100 * p.get_height()/len(data[variable]))\n",
    "                           x = p.get_x() + p.get_width() / 2 - 0.05\n",
    "                           y = p.get_y() + p.get_height()\n",
    "                           plt.annotate(percentage, (x, y),ha='center')\n",
    "                     plt.xticks(rotation=90)\n",
    "                     plt.tight_layout()\n",
    "                     plt.title(variable)"
   ]
  },
  {
   "cell_type": "markdown",
   "id": "f07d760f",
   "metadata": {},
   "source": [
    "Observations\n",
    "\n",
    "Car Profile\n",
    "\n",
    "71 % cars available for sell have manual Transmission.\n",
    "\n",
    "82 % cars are First owned cars.\n",
    "\n",
    "39% of car available for sale are from Maruti & Hyundai brands.\n",
    "\n",
    "53% of car being sold/avialable for purchase have fuel type as Diesel .\n",
    "\n",
    "Mumbai has highest numbers of car availabe for purchase whereas Ahmedabad has least\n",
    "\n",
    "Most of the cars are 5 seaters.\n",
    "\n",
    "Car being sold/available for purchase are in 2 - 23 years old\n",
    "\n",
    "71% car are lower price range car."
   ]
  },
  {
   "cell_type": "code",
   "execution_count": null,
   "id": "60dae16a",
   "metadata": {},
   "outputs": [],
   "source": [
    "numeric_columns= numeric_columns = data.select_dtypes(include=np.number).columns.tolist()\n",
    "plt.figure(figsize=(13,17))\n",
    "\n",
    "for i, variable in enumerate(numeric_columns):\n",
    "                     plt.subplot(5,2,i+1)\n",
    "                     sns.scatterplot(x=data[variable],y=data['Price']).set(title='Price vs '+ variable)\n",
    "                     plt.tight_layout()"
   ]
  },
  {
   "cell_type": "markdown",
   "id": "2650affa",
   "metadata": {},
   "source": [
    "# Handling missing values"
   ]
  },
  {
   "cell_type": "code",
   "execution_count": null,
   "id": "4a83f143",
   "metadata": {},
   "outputs": [],
   "source": [
    "data.isnull().sum()"
   ]
  },
  {
   "cell_type": "code",
   "execution_count": null,
   "id": "5aaa4503",
   "metadata": {},
   "outputs": [],
   "source": [
    "num_missing = data.isnull().sum(axis=1)\n",
    "num_missing.value_counts()"
   ]
  },
  {
   "cell_type": "code",
   "execution_count": null,
   "id": "202c2da6",
   "metadata": {},
   "outputs": [],
   "source": [
    "\n",
    "for n in num_missing.value_counts().sort_index().index:\n",
    "    if n > 0:\n",
    "        print(\"*\" *30,f'\\nFor the rows with exactly {n} missing values, NAs are found in:')\n",
    "        n_miss_per_col = data[num_missing == n].isnull().sum()\n",
    "        print(n_miss_per_col[n_miss_per_col > 0])\n",
    "        print('\\n\\n')"
   ]
  },
  {
   "cell_type": "code",
   "execution_count": null,
   "id": "996c9f6b",
   "metadata": {},
   "outputs": [],
   "source": [
    "data[num_missing==7]"
   ]
  },
  {
   "cell_type": "code",
   "execution_count": null,
   "id": "471d9cb2",
   "metadata": {},
   "outputs": [],
   "source": [
    "col=['Engine','Power','Mileage']\n",
    "data[col].isnull().sum()"
   ]
  },
  {
   "cell_type": "code",
   "execution_count": null,
   "id": "5d00989f",
   "metadata": {},
   "outputs": [],
   "source": [
    "data.groupby(['Name','Year'])['Engine'].median().head(30)"
   ]
  },
  {
   "cell_type": "code",
   "execution_count": null,
   "id": "a7ce43eb",
   "metadata": {},
   "outputs": [],
   "source": [
    "data['Engine']=data.groupby(['Name','Year'])['Engine'].apply(lambda x:x.fillna(x.median()))\n",
    "data['Power']=data.groupby(['Name','Year'])['Power'].apply(lambda x:x.fillna(x.median()))\n",
    "data['Mileage']=data.groupby(['Name','Year'])['Mileage'].apply(lambda x:x.fillna(x.median()))"
   ]
  },
  {
   "cell_type": "code",
   "execution_count": null,
   "id": "45a1672e",
   "metadata": {},
   "outputs": [],
   "source": [
    "col=['Engine','Power','Mileage']\n",
    "data[col].isnull().sum()"
   ]
  },
  {
   "cell_type": "code",
   "execution_count": null,
   "id": "a0022be2",
   "metadata": {},
   "outputs": [],
   "source": [
    "data.groupby(['Brand','Model'])['Engine'].median().head(10)"
   ]
  },
  {
   "cell_type": "code",
   "execution_count": null,
   "id": "04f456ef",
   "metadata": {},
   "outputs": [],
   "source": [
    "data.groupby(['Brand','Model'])['Engine'].median().head(10)"
   ]
  },
  {
   "cell_type": "markdown",
   "id": "fce6387e",
   "metadata": {},
   "source": [
    "As we can see most of the model have same engine size and instead of just applying median , grouping with model and year that should give me more granularity, and near to accurate Engine values."
   ]
  },
  {
   "cell_type": "code",
   "execution_count": null,
   "id": "67845002",
   "metadata": {},
   "outputs": [],
   "source": [
    "data['Engine']=data.groupby(['Brand','Model'])['Engine'].apply(lambda x:x.fillna(x.median()))"
   ]
  },
  {
   "cell_type": "code",
   "execution_count": null,
   "id": "24cb6ac1",
   "metadata": {},
   "outputs": [],
   "source": [
    "data['Power']=data.groupby(['Brand','Model'])['Power'].apply(lambda x:x.fillna(x.median()))"
   ]
  },
  {
   "cell_type": "code",
   "execution_count": null,
   "id": "97792b6a",
   "metadata": {},
   "outputs": [],
   "source": [
    "data['Mileage']=data.groupby(['Brand','Model'])['Mileage'].apply(lambda x:x.fillna(x.median()))"
   ]
  },
  {
   "cell_type": "code",
   "execution_count": null,
   "id": "dacb50c4",
   "metadata": {},
   "outputs": [],
   "source": [
    "col=['Engine','Power','Mileage']\n",
    "data[col].isnull().sum()"
   ]
  },
  {
   "cell_type": "code",
   "execution_count": null,
   "id": "b39a84a2",
   "metadata": {},
   "outputs": [],
   "source": [
    "data.groupby(['Model', 'Year'])['Engine'].agg(['median', 'mean', 'max']).sort_values(by='Model', ascending=True).head(10)"
   ]
  },
  {
   "cell_type": "code",
   "execution_count": null,
   "id": "3dd9f9ad",
   "metadata": {},
   "outputs": [],
   "source": [
    "data.groupby(['Brand','Engine'])['Power'].agg({'mean','median','max'}).head(10)"
   ]
  },
  {
   "cell_type": "code",
   "execution_count": null,
   "id": "838d977e",
   "metadata": {},
   "outputs": [],
   "source": [
    "data['Seats'].isnull().sum()"
   ]
  },
  {
   "cell_type": "code",
   "execution_count": null,
   "id": "d78fff52",
   "metadata": {},
   "outputs": [],
   "source": [
    "data['Seats']=data.groupby(['Name'])['Seats'].apply(lambda x:x.fillna(x.median()))"
   ]
  },
  {
   "cell_type": "code",
   "execution_count": null,
   "id": "34482d22",
   "metadata": {},
   "outputs": [],
   "source": [
    "data['Seats'].isnull().sum()"
   ]
  },
  {
   "cell_type": "code",
   "execution_count": null,
   "id": "df3e41f1",
   "metadata": {},
   "outputs": [],
   "source": [
    "data['Seats']=data.groupby(['Model'])['Seats'].apply(lambda x:x.fillna(x.median()))"
   ]
  },
  {
   "cell_type": "code",
   "execution_count": null,
   "id": "0dc95cda",
   "metadata": {},
   "outputs": [],
   "source": [
    "data[data['Seats'].isnull()==True].head(10)"
   ]
  },
  {
   "cell_type": "code",
   "execution_count": null,
   "id": "bc664e25",
   "metadata": {},
   "outputs": [],
   "source": [
    "#most of cars are 5 seater so fillrest of 23 by 5\n",
    "data['Seats']=data['Seats'].fillna(5)"
   ]
  },
  {
   "cell_type": "code",
   "execution_count": null,
   "id": "aa016fb5",
   "metadata": {},
   "outputs": [],
   "source": [
    "data[\"Location\"] = data[\"Location\"].astype(\"category\")\n",
    "data['Brand'] =data['Brand'].astype(\"category\")"
   ]
  },
  {
   "cell_type": "code",
   "execution_count": null,
   "id": "1516db59",
   "metadata": {},
   "outputs": [],
   "source": [
    "data.isnull().sum()"
   ]
  },
  {
   "cell_type": "markdown",
   "id": "0252dff1",
   "metadata": {},
   "source": [
    "# Processing New Price"
   ]
  },
  {
   "cell_type": "code",
   "execution_count": null,
   "id": "5a2c0f5c",
   "metadata": {},
   "outputs": [],
   "source": [
    "data['new_price_num']=data.groupby(['Name','Year'])['new_price_num'].apply(lambda x:x.fillna(x.median()))"
   ]
  },
  {
   "cell_type": "code",
   "execution_count": null,
   "id": "7cc245e4",
   "metadata": {},
   "outputs": [],
   "source": [
    "data['new_price_num']=data.groupby(['Name'])['new_price_num'].apply(lambda x:x.fillna(x.median()))"
   ]
  },
  {
   "cell_type": "code",
   "execution_count": null,
   "id": "62bd1d40",
   "metadata": {},
   "outputs": [],
   "source": [
    "data['new_price_num']=data.groupby(['Brand','Model'])['new_price_num'].apply(lambda x:x.fillna(x.median()))"
   ]
  },
  {
   "cell_type": "code",
   "execution_count": null,
   "id": "f449eb83",
   "metadata": {},
   "outputs": [],
   "source": [
    "data['new_price_num']=data.groupby(['Brand'])['new_price_num'].apply(lambda x:x.fillna(x.median()))"
   ]
  },
  {
   "cell_type": "code",
   "execution_count": null,
   "id": "03e7714e",
   "metadata": {},
   "outputs": [],
   "source": [
    "data.drop(['New_Price'],axis=1,inplace=True)"
   ]
  },
  {
   "cell_type": "code",
   "execution_count": null,
   "id": "400658db",
   "metadata": {},
   "outputs": [],
   "source": [
    "data.new_price_num.isnull().sum()"
   ]
  },
  {
   "cell_type": "code",
   "execution_count": null,
   "id": "648b6978",
   "metadata": {},
   "outputs": [],
   "source": [
    "data.groupby(['Brand'])['new_price_num'].median().sort_values(ascending=False)"
   ]
  },
  {
   "cell_type": "code",
   "execution_count": null,
   "id": "b80a413b",
   "metadata": {},
   "outputs": [],
   "source": [
    "data.isnull().sum()"
   ]
  },
  {
   "cell_type": "code",
   "execution_count": null,
   "id": "8fe30f5c",
   "metadata": {},
   "outputs": [],
   "source": [
    "data.shape"
   ]
  },
  {
   "cell_type": "code",
   "execution_count": null,
   "id": "6d5f45e1",
   "metadata": {},
   "outputs": [],
   "source": [
    "cols1 = [\"Power\",\"Mileage\",\"Engine\"]\n",
    "\n",
    "for ii in cols1:\n",
    "    data[ii] = data[ii].fillna(data[ii].median())"
   ]
  },
  {
   "cell_type": "code",
   "execution_count": null,
   "id": "5c80e8a7",
   "metadata": {},
   "outputs": [],
   "source": [
    "data.dropna(inplace=True,axis=0)"
   ]
  },
  {
   "cell_type": "code",
   "execution_count": null,
   "id": "278bdb13",
   "metadata": {},
   "outputs": [],
   "source": [
    "data.isnull().sum()"
   ]
  },
  {
   "cell_type": "code",
   "execution_count": null,
   "id": "fdd5b5c2",
   "metadata": {},
   "outputs": [],
   "source": [
    "data.shape"
   ]
  },
  {
   "cell_type": "markdown",
   "id": "efcdfa6f",
   "metadata": {},
   "source": [
    "Price"
   ]
  },
  {
   "cell_type": "code",
   "execution_count": null,
   "id": "e9ca0323",
   "metadata": {},
   "outputs": [],
   "source": [
    "data.groupby(['Brand'])['Price'].agg({'median','mean','max'})"
   ]
  },
  {
   "cell_type": "code",
   "execution_count": null,
   "id": "0e0bda6f",
   "metadata": {},
   "outputs": [],
   "source": [
    "#using business knowledge to create class \n",
    "Low=['Maruti', \n",
    "     'Hyundai',\n",
    "     'Ambassdor',\n",
    "     'Hindustan',\n",
    "     'Force',\n",
    "     'Chevrolet',\n",
    "     'Fiat',\n",
    "     'Tata',\n",
    "     'Smart',\n",
    "     'Renault',\n",
    "     'Datsun',\n",
    "     'Mahindra',\n",
    "     'Skoda',\n",
    "     'Ford',\n",
    "     'Toyota',\n",
    "     'Isuzu',\n",
    "     'Mitsubishi','Honda']\n",
    "High=['Audi',\n",
    "      'Mini Cooper',\n",
    "      'Bentley',\n",
    "      'Mercedes-Benz',\n",
    "      'Lamborghini',\n",
    "      'Volkswagen',\n",
    "      'Porsche',\n",
    "      'Land Rover',\n",
    "      'Nissan',\n",
    "      'Volvo',\n",
    "      'Jeep',\n",
    "      'Jaguar',\n",
    "      'BMW']# more than 30lakh"
   ]
  },
  {
   "cell_type": "code",
   "execution_count": null,
   "id": "30bb6416",
   "metadata": {},
   "outputs": [],
   "source": [
    "def classrange(x):\n",
    "    if x in Low:\n",
    "        return \"Low\"\n",
    "    elif x in High:\n",
    "        return \"High\"\n",
    "    else: \n",
    "        return x"
   ]
  },
  {
   "cell_type": "code",
   "execution_count": null,
   "id": "dbe46b3c",
   "metadata": {},
   "outputs": [],
   "source": [
    "data['Brand_Class'] = data['Brand'].apply(lambda x: classrange(x))"
   ]
  },
  {
   "cell_type": "code",
   "execution_count": null,
   "id": "45dc2c1e",
   "metadata": {},
   "outputs": [],
   "source": [
    "data['Brand_Class'].unique()"
   ]
  },
  {
   "cell_type": "code",
   "execution_count": null,
   "id": "32c68832",
   "metadata": {},
   "outputs": [],
   "source": [
    "data['Engine']=data['Engine'].astype(int)\n",
    "data['Brand_Class']=data[\"Brand_Class\"].astype('category')"
   ]
  },
  {
   "cell_type": "code",
   "execution_count": null,
   "id": "bd6b092a",
   "metadata": {},
   "outputs": [],
   "source": [
    "plt.figure(figsize=(10,8))\n",
    "sns.heatmap(data.corr(),annot=True ,cmap=\"YlGnBu\" )\n",
    "plt.show()"
   ]
  },
  {
   "cell_type": "markdown",
   "id": "e6861543",
   "metadata": {},
   "source": [
    "Observations\n",
    "\n",
    "Engine has strong positive correlation to Power [0.86].\n",
    "\n",
    "Price has positive correlation to Engine[0.66] as well Power [0.77].\n",
    "\n",
    "Mileage is negative correlated to Engine,Power,Price.,Ageofcar\n",
    "\n",
    "Price has negative correlation to age of car.\n",
    "\n",
    "Kilometer driven doesnt impact Price"
   ]
  },
  {
   "cell_type": "markdown",
   "id": "96924d27",
   "metadata": {},
   "source": [
    "# Variables that are correlated with Price variable"
   ]
  },
  {
   "cell_type": "code",
   "execution_count": null,
   "id": "b955a361",
   "metadata": {},
   "outputs": [],
   "source": [
    "plt.figure(figsize=(10,7))\n",
    "\n",
    "plt.title(\"Price VS Engine based on Transmission\")\n",
    "sns.scatterplot(y='Engine', x='Price', hue='Transmission', data=data)"
   ]
  },
  {
   "cell_type": "code",
   "execution_count": null,
   "id": "92a0598d",
   "metadata": {},
   "outputs": [],
   "source": [
    "plt.figure(figsize=(10,7))\n",
    "plt.title(\"Price vs Power based on Transmission\")\n",
    "sns.scatterplot(y='Power', x='Price', hue='Transmission', data=data)"
   ]
  },
  {
   "cell_type": "code",
   "execution_count": null,
   "id": "838dcb73",
   "metadata": {},
   "outputs": [],
   "source": [
    "sns.scatterplot(y='Mileage', x='Price', hue='Transmission', data=data)"
   ]
  },
  {
   "cell_type": "markdown",
   "id": "c61ef413",
   "metadata": {},
   "source": [
    "# Outlier Treatment"
   ]
  },
  {
   "cell_type": "code",
   "execution_count": null,
   "id": "0be13000",
   "metadata": {},
   "outputs": [],
   "source": []
  },
  {
   "cell_type": "code",
   "execution_count": null,
   "id": "fa16d857",
   "metadata": {},
   "outputs": [],
   "source": [
    "num = data.select_dtypes(include=np.number).columns.tolist()\n",
    "num.remove(\n",
    "    \"Price\"\n",
    ") "
   ]
  },
  {
   "cell_type": "code",
   "execution_count": null,
   "id": "d62a7d20",
   "metadata": {},
   "outputs": [],
   "source": [
    "plt.figure(figsize=(17, 15))\n",
    "\n",
    "for i, variable in enumerate(num):\n",
    "    plt.subplot(2, 3, (i % 6) + 1)\n",
    "    plt.boxplot(data[variable], whis=1.5)\n",
    "    plt.tight_layout()\n",
    "    plt.title(variable)\n",
    "\n",
    "plt.show()"
   ]
  },
  {
   "cell_type": "code",
   "execution_count": null,
   "id": "ed836163",
   "metadata": {},
   "outputs": [],
   "source": [
    "def treat_outliers(df, col):\n",
    "    \"\"\"\n",
    "    treats outliers in a variable\n",
    "    col: str, name of the numerical variable\n",
    "    df: dataframe\n",
    "    col: name of the column\n",
    "    \"\"\"\n",
    "\n",
    "    Q1 = df[col].quantile(0.25)  # 1st quantile\n",
    "    Q3 = df[col].quantile(0.75)  # 3rd quantile\n",
    "    IQR = Q3 - Q1\n",
    "    Lower_whisker = Q1 - 1.5 * IQR\n",
    "    Upper_whisker = Q3 + 1.5 * IQR\n",
    "\n",
    "    df[col] = np.clip(df[col], Lower_whisker, Upper_whisker)\n",
    "\n",
    "    return df\n",
    "def treat_outliers_all(df, col_list):\n",
    "\n",
    "    \"\"\"\n",
    "    treat outlier in all numerical variables\n",
    "    col_list: list of numerical variables\n",
    "    df: data frame\n",
    "    \"\"\"\n",
    "\n",
    "    for c in col_list:\n",
    "        df = treat_outliers(df, c)\n",
    "    return df"
   ]
  },
  {
   "cell_type": "code",
   "execution_count": null,
   "id": "361b85ec",
   "metadata": {},
   "outputs": [],
   "source": [
    "num.remove(\"Seats\")"
   ]
  },
  {
   "cell_type": "code",
   "execution_count": null,
   "id": "4fcf8116",
   "metadata": {},
   "outputs": [],
   "source": [
    "data = treat_outliers_all(\n",
    "    data, num\n",
    ") "
   ]
  },
  {
   "cell_type": "code",
   "execution_count": null,
   "id": "e23c9a4d",
   "metadata": {},
   "outputs": [],
   "source": [
    "plt.figure(figsize=(17, 12))\n",
    "\n",
    "for i, variable in enumerate(num):\n",
    "    plt.subplot(2, 3, (i % 6) + 1)\n",
    "    plt.boxplot(data[variable], whis=1.5)\n",
    "    plt.tight_layout()\n",
    "    plt.title(variable)\n",
    "\n",
    "plt.show()"
   ]
  },
  {
   "cell_type": "code",
   "execution_count": null,
   "id": "ffe3e647",
   "metadata": {},
   "outputs": [],
   "source": [
    "data.shape"
   ]
  },
  {
   "cell_type": "code",
   "execution_count": null,
   "id": "e28d0fca",
   "metadata": {},
   "outputs": [],
   "source": [
    "cols_to_log = data.select_dtypes(include=np.number).columns.tolist()\n",
    "for colname in cols_to_log:\n",
    "    sns.distplot(data[colname], kde=True)\n",
    "    plt.show()"
   ]
  },
  {
   "cell_type": "code",
   "execution_count": null,
   "id": "b3826f0e",
   "metadata": {},
   "outputs": [],
   "source": [
    "def Perform_log_transform(df,col_log):\n",
    "    \"\"\"#Perform Log Transformation of dataframe , and list of columns \"\"\"\n",
    "    for colname in col_log:\n",
    "        df[colname + '_log'] = np.log(df[colname])\n",
    "#     df.drop(col_log, axis=1, inplace=True)\n",
    "    df.info()"
   ]
  },
  {
   "cell_type": "code",
   "execution_count": null,
   "id": "924c7392",
   "metadata": {
    "scrolled": true
   },
   "outputs": [],
   "source": [
    "Perform_log_transform(data,['Kilometers_Driven','Price'])"
   ]
  },
  {
   "cell_type": "code",
   "execution_count": null,
   "id": "72d52091",
   "metadata": {},
   "outputs": [],
   "source": [
    "data.drop(['Name','Model','Year','Brand'],axis=1,inplace=True)"
   ]
  },
  {
   "cell_type": "code",
   "execution_count": null,
   "id": "e3289ac7",
   "metadata": {},
   "outputs": [],
   "source": [
    "#data.drop(['Name','Model','Year','Brand','new_price_num'],axis=1,inplace=True)"
   ]
  },
  {
   "cell_type": "code",
   "execution_count": null,
   "id": "80db8e67",
   "metadata": {},
   "outputs": [],
   "source": [
    "data.drop(['Kilometers_Driven','Price'],axis=1,inplace=True)"
   ]
  },
  {
   "cell_type": "code",
   "execution_count": null,
   "id": "dc817b02",
   "metadata": {},
   "outputs": [],
   "source": [
    "data.info()"
   ]
  },
  {
   "cell_type": "code",
   "execution_count": null,
   "id": "cdd897ed",
   "metadata": {},
   "outputs": [],
   "source": [
    "X = data.drop([\"Price_log\"], axis=1)\n",
    "y = data[\"Price_log\"]"
   ]
  },
  {
   "cell_type": "code",
   "execution_count": null,
   "id": "dcb5d689",
   "metadata": {},
   "outputs": [],
   "source": [
    "def encode_cat_vars(x):\n",
    "    x = pd.get_dummies(\n",
    "        x,\n",
    "        columns=x.select_dtypes(include=[\"object\", \"category\"]).columns.tolist(),\n",
    "        drop_first=True,\n",
    "    )\n",
    "    return x"
   ]
  },
  {
   "cell_type": "code",
   "execution_count": null,
   "id": "42025bcd",
   "metadata": {},
   "outputs": [],
   "source": [
    "X = encode_cat_vars(X)\n",
    "X.head()"
   ]
  },
  {
   "cell_type": "code",
   "execution_count": null,
   "id": "e2a40e5d",
   "metadata": {},
   "outputs": [],
   "source": [
    "X_train, X_test, y_train, y_test = train_test_split(X, y, test_size=0.3, random_state=42)\n",
    "X_train.reset_index()\n",
    "print(\"X_train:\",X_train.shape)\n",
    "print(\"X_test:\",X_test.shape)\n",
    "print(\"y_train:\",y_train.shape)\n",
    "print(\"y_test:\",y_test.shape)"
   ]
  },
  {
   "cell_type": "markdown",
   "id": "0c78a566",
   "metadata": {},
   "source": [
    "# Base Model"
   ]
  },
  {
   "cell_type": "code",
   "execution_count": null,
   "id": "3c1ec9ed",
   "metadata": {},
   "outputs": [],
   "source": [
    "import statsmodels.api as sm"
   ]
  },
  {
   "cell_type": "code",
   "execution_count": null,
   "id": "74e4be54",
   "metadata": {},
   "outputs": [],
   "source": [
    "X_train = sm.add_constant(X_train)\n",
    "X_test = sm.add_constant(X_test)\n",
    "\n",
    "\n",
    "def build_ols_model(train):\n",
    "    # Create the model\n",
    "    olsmodel = sm.OLS(y_train, X_train)\n",
    "    return olsmodel.fit()\n"
   ]
  },
  {
   "cell_type": "code",
   "execution_count": null,
   "id": "3ce3dc15",
   "metadata": {},
   "outputs": [],
   "source": [
    "olsmodel1 = build_ols_model(X_train)\n",
    "print(olsmodel1.summary())"
   ]
  },
  {
   "cell_type": "code",
   "execution_count": null,
   "id": "102519f5",
   "metadata": {},
   "outputs": [],
   "source": [
    "X.columns"
   ]
  },
  {
   "cell_type": "markdown",
   "id": "cfc4f1a7",
   "metadata": {},
   "source": [
    "# OLS model after dropping insignificant feature"
   ]
  },
  {
   "cell_type": "code",
   "execution_count": null,
   "id": "9c3e60f2",
   "metadata": {},
   "outputs": [],
   "source": [
    "X1 = X.drop([\"Mileage\",\"Seats\",\"Location_Chennai\",\"Location_Kochi\",\"Fuel_Type_LPG\",\"Owner_Type_Fourth & Above\",\"Fuel_Type_Petrol\",\"Power\"], axis=1)"
   ]
  },
  {
   "cell_type": "code",
   "execution_count": null,
   "id": "9e39fdef",
   "metadata": {},
   "outputs": [],
   "source": [
    "X1_train, X1_test, y_train, y_test = train_test_split(X1, y, test_size=0.3, random_state=42)"
   ]
  },
  {
   "cell_type": "code",
   "execution_count": null,
   "id": "26dc05ca",
   "metadata": {},
   "outputs": [],
   "source": [
    "X1_train = sm.add_constant(X1_train)\n",
    "X1_test = sm.add_constant(X1_test)\n",
    "\n",
    "\n",
    "def build_ols_model(train):\n",
    "   \n",
    "    olsmodel = sm.OLS(y_train, X1_train)\n",
    "    return olsmodel.fit()"
   ]
  },
  {
   "cell_type": "code",
   "execution_count": null,
   "id": "9b5cd089",
   "metadata": {},
   "outputs": [],
   "source": [
    "olsmodel2 = build_ols_model(X1_train)\n",
    "print(olsmodel2.summary())"
   ]
  },
  {
   "cell_type": "markdown",
   "id": "5989e5a6",
   "metadata": {},
   "source": [
    "# Test Assumptions of OLS"
   ]
  },
  {
   "cell_type": "markdown",
   "id": "14c472f0",
   "metadata": {},
   "source": [
    "No Multicollinearity"
   ]
  },
  {
   "cell_type": "code",
   "execution_count": null,
   "id": "290d1459",
   "metadata": {},
   "outputs": [],
   "source": [
    "from statsmodels.stats.outliers_influence import variance_inflation_factor\n",
    "\n",
    "\n",
    "def checking_vif(train):\n",
    "    vif = pd.DataFrame()\n",
    "    vif[\"feature\"] = train.columns\n",
    "\n",
    "    vif[\"VIF\"] = [\n",
    "        variance_inflation_factor(train.values, i) for i in range(len(train.columns))\n",
    "    ]\n",
    "    return vif"
   ]
  },
  {
   "cell_type": "code",
   "execution_count": null,
   "id": "1d880353",
   "metadata": {},
   "outputs": [],
   "source": [
    "print(checking_vif(X1_train))\n"
   ]
  },
  {
   "cell_type": "markdown",
   "id": "6b5c5035",
   "metadata": {},
   "source": [
    "Mean of residuals should be 0"
   ]
  },
  {
   "cell_type": "code",
   "execution_count": null,
   "id": "94e1b09b",
   "metadata": {},
   "outputs": [],
   "source": [
    "residuals = olsmodel2.resid\n",
    "np.mean(residuals)"
   ]
  },
  {
   "cell_type": "markdown",
   "id": "37b50339",
   "metadata": {},
   "source": [
    "No Heteroscedasticity"
   ]
  },
  {
   "cell_type": "code",
   "execution_count": null,
   "id": "172263c2",
   "metadata": {},
   "outputs": [],
   "source": [
    "import statsmodels.stats.api as sms\n",
    "from statsmodels.compat import lzip\n",
    "\n",
    "name = [\"F statistic\", \"p-value\"]\n",
    "test = sms.het_goldfeldquandt(residuals, X1_train)\n",
    "lzip(name, test)"
   ]
  },
  {
   "cell_type": "markdown",
   "id": "f1d09c66",
   "metadata": {},
   "source": [
    "Normality of error terms"
   ]
  },
  {
   "cell_type": "code",
   "execution_count": null,
   "id": "604bd48f",
   "metadata": {},
   "outputs": [],
   "source": [
    "fitted = olsmodel2.fittedvalues\n",
    "sns.residplot(x=fitted, y=residuals, color=\"purple\", lowess=True)\n",
    "plt.xlabel(\"Fitted Values\")\n",
    "plt.ylabel(\"Residuals\")\n",
    "plt.ylabel(\"Residuals\")\n",
    "plt.title(\"Residual PLOT\")\n",
    "plt.show()\n",
    "\n"
   ]
  },
  {
   "cell_type": "markdown",
   "id": "b5abb217",
   "metadata": {},
   "source": [
    " Normality of error terms"
   ]
  },
  {
   "cell_type": "code",
   "execution_count": null,
   "id": "5a8f8204",
   "metadata": {},
   "outputs": [],
   "source": [
    "sns.distplot(residuals)"
   ]
  },
  {
   "cell_type": "code",
   "execution_count": null,
   "id": "e4be7189",
   "metadata": {},
   "outputs": [],
   "source": [
    "# Plot q-q plot of residuals\n",
    "import pylab\n",
    "import scipy.stats as stats\n",
    "\n",
    "stats.probplot(residuals, dist=\"norm\", plot=pylab)\n",
    "plt.show()"
   ]
  },
  {
   "cell_type": "markdown",
   "id": "5da4a75c",
   "metadata": {},
   "source": [
    "# Lineara Regression"
   ]
  },
  {
   "cell_type": "code",
   "execution_count": null,
   "id": "a3f53e4f",
   "metadata": {},
   "outputs": [],
   "source": [
    "from sklearn.linear_model import LinearRegression"
   ]
  },
  {
   "cell_type": "code",
   "execution_count": null,
   "id": "eb63c1a3",
   "metadata": {},
   "outputs": [],
   "source": [
    "model = LinearRegression()"
   ]
  },
  {
   "cell_type": "code",
   "execution_count": null,
   "id": "13451e4e",
   "metadata": {},
   "outputs": [],
   "source": [
    "model.fit(X_train,y_train)"
   ]
  },
  {
   "cell_type": "code",
   "execution_count": null,
   "id": "966f7972",
   "metadata": {},
   "outputs": [],
   "source": [
    "y_pred = model.predict(X_test)"
   ]
  },
  {
   "cell_type": "code",
   "execution_count": null,
   "id": "bc6a1b13",
   "metadata": {},
   "outputs": [],
   "source": [
    "plt.scatter(y_test, y_pred)"
   ]
  },
  {
   "cell_type": "code",
   "execution_count": null,
   "id": "b19bb708",
   "metadata": {},
   "outputs": [],
   "source": [
    "r2 = metrics.r2_score(y_test,y_pred)"
   ]
  },
  {
   "cell_type": "code",
   "execution_count": null,
   "id": "c37d47f5",
   "metadata": {},
   "outputs": [],
   "source": [
    "r2"
   ]
  },
  {
   "cell_type": "code",
   "execution_count": null,
   "id": "d0ae5c92",
   "metadata": {},
   "outputs": [],
   "source": [
    "import math\n",
    "rmse = math.sqrt(metrics.mean_squared_error(y_test,y_pred))"
   ]
  },
  {
   "cell_type": "code",
   "execution_count": null,
   "id": "ea38d11a",
   "metadata": {},
   "outputs": [],
   "source": [
    "rmse"
   ]
  },
  {
   "cell_type": "markdown",
   "id": "d66c5108",
   "metadata": {},
   "source": [
    "# Decesion Tree Regressor"
   ]
  },
  {
   "cell_type": "code",
   "execution_count": null,
   "id": "c74bdb87",
   "metadata": {},
   "outputs": [],
   "source": [
    "DR = DecisionTreeRegressor()"
   ]
  },
  {
   "cell_type": "code",
   "execution_count": null,
   "id": "5649f51f",
   "metadata": {},
   "outputs": [],
   "source": [
    "DR.fit(X_train, y_train)"
   ]
  },
  {
   "cell_type": "code",
   "execution_count": null,
   "id": "36db2df9",
   "metadata": {},
   "outputs": [],
   "source": [
    "y_pred = DR.predict(X_test)"
   ]
  },
  {
   "cell_type": "code",
   "execution_count": null,
   "id": "8b702996",
   "metadata": {},
   "outputs": [],
   "source": [
    "plt.scatter(y_test, y_pred)"
   ]
  },
  {
   "cell_type": "code",
   "execution_count": null,
   "id": "9f6293ff",
   "metadata": {},
   "outputs": [],
   "source": [
    "r2_DR = metrics.r2_score(y_test, y_pred)\n",
    "r2_DR"
   ]
  },
  {
   "cell_type": "code",
   "execution_count": null,
   "id": "cd6240aa",
   "metadata": {},
   "outputs": [],
   "source": [
    "rmse_DR = math.sqrt(metrics.mean_squared_error(y_test, y_pred))\n",
    "rmse_DR"
   ]
  },
  {
   "cell_type": "markdown",
   "id": "9132af8c",
   "metadata": {},
   "source": [
    "# Randomforest regressor"
   ]
  },
  {
   "cell_type": "code",
   "execution_count": null,
   "id": "1b0a6bc1",
   "metadata": {},
   "outputs": [],
   "source": [
    "from sklearn.ensemble import RandomForestRegressor"
   ]
  },
  {
   "cell_type": "code",
   "execution_count": null,
   "id": "929221e9",
   "metadata": {},
   "outputs": [],
   "source": [
    "RF = RandomForestRegressor()"
   ]
  },
  {
   "cell_type": "code",
   "execution_count": null,
   "id": "16731e09",
   "metadata": {},
   "outputs": [],
   "source": [
    "RF.fit(X_train, y_train)"
   ]
  },
  {
   "cell_type": "code",
   "execution_count": null,
   "id": "8290158a",
   "metadata": {},
   "outputs": [],
   "source": [
    "y_pred = RF.predict(X_test)"
   ]
  },
  {
   "cell_type": "code",
   "execution_count": null,
   "id": "5c77ed96",
   "metadata": {},
   "outputs": [],
   "source": [
    "r2_RF = metrics.r2_score(y_test, y_pred)\n",
    "r2_RF"
   ]
  },
  {
   "cell_type": "code",
   "execution_count": null,
   "id": "f92b9ace",
   "metadata": {},
   "outputs": [],
   "source": [
    "plt.scatter(y_test, y_pred)"
   ]
  },
  {
   "cell_type": "code",
   "execution_count": null,
   "id": "bcc7613d",
   "metadata": {},
   "outputs": [],
   "source": [
    "rmse_RF = math.sqrt(metrics.mean_squared_error(y_test, y_pred))\n",
    "rmse_RF"
   ]
  },
  {
   "cell_type": "markdown",
   "id": "37d2bf1d",
   "metadata": {},
   "source": [
    "# Lasso Rigression"
   ]
  },
  {
   "cell_type": "code",
   "execution_count": null,
   "id": "354912ad",
   "metadata": {},
   "outputs": [],
   "source": [
    "from sklearn.linear_model import Lasso\n"
   ]
  },
  {
   "cell_type": "code",
   "execution_count": null,
   "id": "5e0ad175",
   "metadata": {},
   "outputs": [],
   "source": [
    "lasso=Lasso()\n",
    "lasso.fit(X1_train,y_train)"
   ]
  },
  {
   "cell_type": "code",
   "execution_count": null,
   "id": "44131710",
   "metadata": {},
   "outputs": [],
   "source": [
    "y_pred=lasso.predict(X1_test)"
   ]
  },
  {
   "cell_type": "code",
   "execution_count": null,
   "id": "67a01b47",
   "metadata": {},
   "outputs": [],
   "source": [
    "y_pred = lasso.predict(X1_test)"
   ]
  },
  {
   "cell_type": "code",
   "execution_count": null,
   "id": "24f82de1",
   "metadata": {},
   "outputs": [],
   "source": [
    "r2_lasso = metrics.r2_score(y_test, y_pred)\n",
    "r2_lasso"
   ]
  },
  {
   "cell_type": "code",
   "execution_count": null,
   "id": "f43e04ef",
   "metadata": {},
   "outputs": [],
   "source": [
    "rmse_lasso = math.sqrt(metrics.mean_squared_error(y_test, y_pred))\n",
    "rmse_lasso"
   ]
  },
  {
   "cell_type": "markdown",
   "id": "5de803ed",
   "metadata": {},
   "source": [
    "# Ridge Regression"
   ]
  },
  {
   "cell_type": "code",
   "execution_count": null,
   "id": "4763947c",
   "metadata": {},
   "outputs": [],
   "source": [
    "from sklearn.linear_model import Ridge"
   ]
  },
  {
   "cell_type": "code",
   "execution_count": null,
   "id": "6ac1b212",
   "metadata": {},
   "outputs": [],
   "source": [
    "ridge=Ridge()\n",
    "ridge.fit(X1_train,y_train)"
   ]
  },
  {
   "cell_type": "code",
   "execution_count": null,
   "id": "8d6c2fe1",
   "metadata": {},
   "outputs": [],
   "source": [
    "y_pred = ridge.predict(X1_test)"
   ]
  },
  {
   "cell_type": "code",
   "execution_count": null,
   "id": "1447f3d7",
   "metadata": {},
   "outputs": [],
   "source": [
    "r2_ridge = metrics.r2_score(y_test, y_pred)\n",
    "r2_ridge"
   ]
  },
  {
   "cell_type": "code",
   "execution_count": null,
   "id": "5e3d7193",
   "metadata": {},
   "outputs": [],
   "source": [
    "rmse_ridge = math.sqrt(metrics.mean_squared_error(y_test, y_pred))\n",
    "rmse_ridge"
   ]
  },
  {
   "cell_type": "code",
   "execution_count": null,
   "id": "30f086e1",
   "metadata": {},
   "outputs": [],
   "source": []
  }
 ],
 "metadata": {
  "kernelspec": {
   "display_name": "Python 3 (ipykernel)",
   "language": "python",
   "name": "python3"
  },
  "language_info": {
   "codemirror_mode": {
    "name": "ipython",
    "version": 3
   },
   "file_extension": ".py",
   "mimetype": "text/x-python",
   "name": "python",
   "nbconvert_exporter": "python",
   "pygments_lexer": "ipython3",
   "version": "3.9.13"
  }
 },
 "nbformat": 4,
 "nbformat_minor": 5
}
